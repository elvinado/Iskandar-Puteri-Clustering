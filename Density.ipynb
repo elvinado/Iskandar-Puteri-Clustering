{
 "cells": [
  {
   "cell_type": "markdown",
   "metadata": {},
   "source": [
    "# Packages Imports"
   ]
  },
  {
   "cell_type": "code",
   "execution_count": 1,
   "metadata": {},
   "outputs": [],
   "source": [
    "import pickle\n",
    "import pandas as pd\n",
    "import numpy as np\n",
    "import osmnx as ox\n",
    "import contextily as ctx\n",
    "import matplotlib.pyplot as plt\n",
    "import matplotlib.cm as cm\n",
    "from matplotlib.patches import Rectangle,Patch\n",
    "from matplotlib import colors\n",
    "from itertools import combinations\n",
    "from math import floor, ceil\n",
    "from collections import Counter\n",
    "from sklearn.feature_extraction.text import CountVectorizer\n",
    "from sklearn.cluster import DBSCAN\n",
    "from sklearn.preprocessing import normalize,minmax_scale,robust_scale\n",
    "import pydeck as pdk"
   ]
  },
  {
   "cell_type": "code",
   "execution_count": 2,
   "metadata": {},
   "outputs": [],
   "source": [
    "PLACE_NAME = \"Iskandar Puteri\"\n",
    "\n",
    "building_file = \"data/iskandar_puteri.building\"\n",
    "amenity_file = \"data/iskandar_puteri.amenity\"\n",
    "leisure_file = \"data/iskandar_puteri.leisure\"\n",
    "shop_file = \"data/iskandar_puteri.shop\"\n",
    "area_file = \"data/iskandar_puteri.area\"\n",
    "\n",
    "files = [building_file,amenity_file,leisure_file,shop_file,area_file]\n",
    "\n",
    "## reload pickle from saved file\n",
    "def load_pickle_file(file):\n",
    "    with open(file, \"rb\") as f:\n",
    "        return pickle.load(f)\n",
    "\n",
    "building,amenity,leisure,shop,area = [load_pickle_file(file) for file in files]\n",
    "building = building.dropna(axis=1)\n",
    "amenity = amenity.dropna(axis=1)\n",
    "leisure = leisure.dropna(axis=1)\n",
    "shop = shop.dropna(axis=1)\n",
    "# shorthand for osmid indexes for readability reason\n",
    "buil_i = building.index.get_level_values(1)\n",
    "amen_i = amenity.index.get_level_values(1)\n",
    "leis_i = leisure.index.get_level_values(1)\n",
    "shop_i = shop.index.get_level_values(1)\n",
    "# reset indexes to simplify process\n",
    "building = building.reset_index()\n",
    "amenity = amenity.reset_index()\n",
    "leisure = leisure.reset_index()\n",
    "shop = shop.reset_index()\n",
    "# we found 'yes' similar in both building & shop\n",
    "# Therefore, we need to change to 'building' or 'shop' instead.\n",
    "building['building'].replace({'yes':'building'},inplace=True)\n",
    "shop['shop'].replace({'yes':'shop'},inplace=True)\n",
    "# remove 141 amenities from building\n",
    "criteria = ~building['osmid'].isin(buil_i.intersection(amen_i))\n",
    "building = building[criteria]\n",
    "# remove 4 leisure rom building\n",
    "criteria = ~building['osmid'].isin(buil_i.intersection(leis_i))\n",
    "building = building[criteria]\n",
    "# remove 55 shop rom building\n",
    "criteria = ~building['osmid'].isin(buil_i.intersection(shop_i))\n",
    "building = building[criteria]\n",
    "# remove 4 shop from amenity\n",
    "criteria = ~amenity['osmid'].isin(amen_i.intersection(shop_i))\n",
    "amenity = amenity[criteria]\n",
    "building['centroid'] = building.geometry.to_crs('EPSG:32648').centroid.to_crs('EPSG:4326')\n",
    "amenity['centroid'] = amenity.geometry.to_crs('EPSG:32648').centroid.to_crs('EPSG:4326')\n",
    "leisure['centroid'] = leisure.geometry.to_crs('EPSG:32648').centroid.to_crs('EPSG:4326')\n",
    "shop['centroid'] = shop.geometry.to_crs('EPSG:32648').centroid.to_crs('EPSG:4326')\n"
   ]
  },
  {
   "cell_type": "code",
   "execution_count": 3,
   "metadata": {},
   "outputs": [],
   "source": [
    "entity = pd.concat([building,amenity,leisure,shop]).reset_index(drop=True)\n",
    "entity['lng'] = entity['centroid'].x\n",
    "entity['lat'] = entity['centroid'].y\n",
    "df = entity[['lng','lat']]"
   ]
  },
  {
   "cell_type": "code",
   "execution_count": 4,
   "metadata": {},
   "outputs": [],
   "source": [
    "BLUES = [\n",
    "        [168, 221, 181],[123, 204, 196],[67, 162, 202],[8, 104, 172],\n",
    "        ]\n",
    "GREENS = [\n",
    "        (153,216,201),(102,194,164),(44,162,95),(0,109,44)\n",
    "        ]\n",
    "PINKS = [\n",
    "        (201,148,199),(223,101,176),(221,28,119),(152,0,67)\n",
    "        ]\n",
    "REDS = [\n",
    "        (254,178,76),(253,141,60),(240,59,32),(189,0,38)\n",
    "        ]\n",
    "RED2BLUE = ((5,113,176),(146,197,222),(244,165,130),(202,0,32))\n"
   ]
  },
  {
   "cell_type": "code",
   "execution_count": 5,
   "metadata": {},
   "outputs": [
    {
     "data": {
      "application/vnd.jupyter.widget-view+json": {
       "model_id": "3dc9c91a604b4550907e5cd372ff6036",
       "version_major": 2,
       "version_minor": 0
      },
      "text/plain": [
       "DeckGLWidget(carto_key=None, custom_libraries=[], google_maps_key=None, height=700, json_input='{\\n  \"initialV…"
      ]
     },
     "metadata": {},
     "output_type": "display_data"
    }
   ],
   "source": [
    "view = pdk.data_utils.compute_view(df[['lng','lat']])\n",
    "view.pitch = 50\n",
    "view.bearing = -20\n",
    "view.zoom = 11\n",
    "view.latitude = 1.436019010084092\n",
    "view.longitude = 103.61427530063695\n",
    "view\n",
    "INITIAL_VIEW_STATE = view\n",
    "\n",
    "layer = pdk.Layer(\n",
    "  'GridLayer',\n",
    "  data=df,\n",
    "  get_position=['lng','lat'],\n",
    "  cell_size=400,\n",
    "  opacity=0.6,\n",
    "  colorRange=RED2BLUE,\n",
    "  extruded=True,\n",
    "  elevation_scale=3\n",
    ")\n",
    "pdk.Deck(\n",
    "  layers=[layer],\n",
    "  initial_view_state=INITIAL_VIEW_STATE,\n",
    "  map_style=pdk.map_styles.CARTO_ROAD,\n",
    "  height=700,\n",
    "  width=700,\n",
    ").show()\n"
   ]
  },
  {
   "cell_type": "code",
   "execution_count": 6,
   "metadata": {},
   "outputs": [
    {
     "data": {
      "application/vnd.jupyter.widget-view+json": {
       "model_id": "27d86ff48a164a55a7af4b6a797b4ce5",
       "version_major": 2,
       "version_minor": 0
      },
      "text/plain": [
       "DeckGLWidget(carto_key=None, custom_libraries=[], google_maps_key=None, height=700, json_input='{\\n  \"initialV…"
      ]
     },
     "metadata": {},
     "output_type": "display_data"
    }
   ],
   "source": [
    "view = pdk.data_utils.compute_view(df[['lng','lat']])\n",
    "view.pitch = 50\n",
    "view.bearing = -20\n",
    "view.zoom = 11\n",
    "view.latitude = 1.436019010084092\n",
    "view.longitude = 103.61427530063695\n",
    "INITIAL_VIEW_STATE = view\n",
    "\n",
    "layer = pdk.Layer(\n",
    "  'HexagonLayer',\n",
    "  data=df,\n",
    "  get_position=['lng','lat'],\n",
    "  radius=200,\n",
    "  opacity=0.6,\n",
    "  colorRange=RED2BLUE,\n",
    "  extruded=True,\n",
    "  elevation_scale=3\n",
    ")\n",
    "pdk.Deck(\n",
    "  layers=[layer],\n",
    "  initial_view_state=INITIAL_VIEW_STATE,\n",
    "  map_style=pdk.map_styles.CARTO_DARK,\n",
    "  height=700,\n",
    "  width=700,\n",
    ").show()"
   ]
  },
  {
   "cell_type": "code",
   "execution_count": 7,
   "metadata": {},
   "outputs": [
    {
     "data": {
      "application/vnd.jupyter.widget-view+json": {
       "model_id": "bf084249b8ea4faca4344c12943dcb1b",
       "version_major": 2,
       "version_minor": 0
      },
      "text/plain": [
       "DeckGLWidget(carto_key=None, custom_libraries=[], google_maps_key=None, height=700, json_input='{\\n  \"initialV…"
      ]
     },
     "metadata": {},
     "output_type": "display_data"
    }
   ],
   "source": [
    "view = pdk.data_utils.compute_view(df[['lng','lat']])\n",
    "view.pitch = 50\n",
    "view.bearing = -20\n",
    "view.zoom = 11\n",
    "view.latitude = 1.436019010084092\n",
    "view.longitude = 103.61427530063695\n",
    "INITIAL_VIEW_STATE = view\n",
    "\n",
    "layer = pdk.Layer(\n",
    "  'HeatmapLayer',\n",
    "  data=df,\n",
    "  get_position=['lng','lat'],\n",
    "  radius=200,\n",
    "  opacity=0.6,\n",
    "  colorRange=RED2BLUE,\n",
    "  radius_pixels = 70\n",
    ")\n",
    "pdk.Deck(\n",
    "  layers=[layer],\n",
    "  initial_view_state=INITIAL_VIEW_STATE,\n",
    "  map_style=pdk.map_styles.CARTO_LIGHT,\n",
    "  height=700,\n",
    "  width=700,\n",
    ").show()"
   ]
  }
 ],
 "metadata": {
  "kernelspec": {
   "display_name": "venv",
   "language": "python",
   "name": "python3"
  },
  "language_info": {
   "codemirror_mode": {
    "name": "ipython",
    "version": 3
   },
   "file_extension": ".py",
   "mimetype": "text/x-python",
   "name": "python",
   "nbconvert_exporter": "python",
   "pygments_lexer": "ipython3",
   "version": "3.10.8"
  },
  "vscode": {
   "interpreter": {
    "hash": "94b1c862bfa4fa87dba09b555630805264da75a24f42442553aa3fd04b5c7dd9"
   }
  }
 },
 "nbformat": 4,
 "nbformat_minor": 4
}
